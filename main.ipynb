{
 "cells": [
  {
   "cell_type": "code",
   "execution_count": 1,
   "metadata": {},
   "outputs": [],
   "source": [
    "from pyspark.sql.functions import *\n",
    "from pyspark.sql import SparkSession\n",
    "\n",
    "Spark = SparkSession.builder.appName(\"Sanfranciso\").getOrCreate()"
   ]
  },
  {
   "cell_type": "code",
   "execution_count": 2,
   "metadata": {},
   "outputs": [
    {
     "data": {
      "text/html": [
       "\n",
       "            <div>\n",
       "                <p><b>SparkSession - in-memory</b></p>\n",
       "                \n",
       "        <div>\n",
       "            <p><b>SparkContext</b></p>\n",
       "\n",
       "            <p><a href=\"http://LAPTOP-S67TFTS4:4040\">Spark UI</a></p>\n",
       "\n",
       "            <dl>\n",
       "              <dt>Version</dt>\n",
       "                <dd><code>v3.5.1</code></dd>\n",
       "              <dt>Master</dt>\n",
       "                <dd><code>local[*]</code></dd>\n",
       "              <dt>AppName</dt>\n",
       "                <dd><code>Sanfranciso</code></dd>\n",
       "            </dl>\n",
       "        </div>\n",
       "        \n",
       "            </div>\n",
       "        "
      ],
      "text/plain": [
       "<pyspark.sql.session.SparkSession at 0x18a40413950>"
      ]
     },
     "execution_count": 2,
     "metadata": {},
     "output_type": "execute_result"
    }
   ],
   "source": [
    "Spark"
   ]
  },
  {
   "cell_type": "markdown",
   "metadata": {},
   "source": [
    "# 1. Read the sanfranciso fire calls."
   ]
  },
  {
   "cell_type": "code",
   "execution_count": 3,
   "metadata": {},
   "outputs": [
    {
     "name": "stdout",
     "output_type": "stream",
     "text": [
      "+----------+------+--------------+----------------+----------+----------+--------------------+--------------------+--------------------+----+-------+---------+-----------+----+----------------+--------+-------------+-------+-------------+---------+--------------+--------------------------+----------------------+------------------+--------------------+--------------------+-------------+---------+\n",
      "|CallNumber|UnitID|IncidentNumber|        CallType|  CallDate| WatchDate|CallFinalDisposition|       AvailableDtTm|             Address|City|Zipcode|Battalion|StationArea| Box|OriginalPriority|Priority|FinalPriority|ALSUnit|CallTypeGroup|NumAlarms|      UnitType|UnitSequenceInCallDispatch|FirePreventionDistrict|SupervisorDistrict|        Neighborhood|            Location|        RowID|    Delay|\n",
      "+----------+------+--------------+----------------+----------+----------+--------------------+--------------------+--------------------+----+-------+---------+-----------+----+----------------+--------+-------------+-------+-------------+---------+--------------+--------------------------+----------------------+------------------+--------------------+--------------------+-------------+---------+\n",
      "|  20110016|   T13|       2003235|  Structure Fire|01/11/2002|01/10/2002|               Other|01/11/2002 01:51:...|2000 Block of CAL...|  SF|  94109|      B04|         38|3362|               3|       3|            3|  false|         NULL|        1|         TRUCK|                         2|                     4|                 5|     Pacific Heights|(37.7895840679362...|020110016-T13|     2.95|\n",
      "|  20110022|   M17|       2003241|Medical Incident|01/11/2002|01/10/2002|               Other|01/11/2002 03:01:...|0 Block of SILVER...|  SF|  94124|      B10|         42|6495|               3|       3|            3|   true|         NULL|        1|         MEDIC|                         1|                    10|                10|Bayview Hunters P...|(37.7337623673897...|020110022-M17|      4.7|\n",
      "|  20110023|   M41|       2003242|Medical Incident|01/11/2002|01/10/2002|               Other|01/11/2002 02:39:...|MARKET ST/MCALLIS...|  SF|  94102|      B03|         01|1455|               3|       3|            3|   true|         NULL|        1|         MEDIC|                         2|                     3|                 6|          Tenderloin|(37.7811772186856...|020110023-M41|2.4333334|\n",
      "|  20110032|   E11|       2003250|    Vehicle Fire|01/11/2002|01/10/2002|               Other|01/11/2002 04:16:...|APPLETON AV/MISSI...|  SF|  94110|      B06|         32|5626|               3|       3|            3|  false|         NULL|        1|        ENGINE|                         1|                     6|                 9|      Bernal Heights|(37.7388432849018...|020110032-E11|      1.5|\n",
      "|  20110043|   B04|       2003259|          Alarms|01/11/2002|01/10/2002|               Other|01/11/2002 06:01:...|1400 Block of SUT...|  SF|  94109|      B04|         03|3223|               3|       3|            3|  false|         NULL|        1|         CHIEF|                         2|                     4|                 2|    Western Addition|(37.7872890372638...|020110043-B04|3.4833333|\n",
      "|  20110072|   T08|       2003279|  Structure Fire|01/11/2002|01/11/2002|               Other|01/11/2002 08:03:...|  BEALE ST/FOLSOM ST|  SF|  94105|      B03|         35|2122|               3|       3|            3|  false|         NULL|        1|         TRUCK|                         2|                     3|                 6|Financial Distric...|(37.7886866619654...|020110072-T08|     1.75|\n",
      "|  20110125|   E33|       2003301|          Alarms|01/11/2002|01/11/2002|               Other|01/11/2002 09:46:...|0 Block of FARALL...|  SF|  94112|      B09|         33|8324|               3|       3|            3|  false|         NULL|        1|        ENGINE|                         2|                     9|                11|Oceanview/Merced/...|(37.7140353531157...|020110125-E33|2.7166667|\n",
      "|  20110130|   E36|       2003304|          Alarms|01/11/2002|01/11/2002|               Other|01/11/2002 09:58:...|600 Block of POLK ST|  SF|  94102|      B02|         03|3114|               3|       3|            3|  false|         NULL|        1|        ENGINE|                         1|                     2|                 6|          Tenderloin|(37.7826266328595...|020110130-E36|1.7833333|\n",
      "|  20110197|   E05|       2003343|Medical Incident|01/11/2002|01/11/2002|               Other|01/11/2002 12:06:...|1500 Block of WEB...|  SF|  94115|      B04|         05|3513|               3|       3|            3|  false|         NULL|        1|        ENGINE|                         1|                     4|                 5|           Japantown|(37.784958590666,...|020110197-E05|1.5166667|\n",
      "|  20110215|   E06|       2003348|Medical Incident|01/11/2002|01/11/2002|               Other|01/11/2002 01:08:...|DIAMOND ST/MARKET ST|  SF|  94114|      B05|         06|5415|               3|       3|            3|  false|         NULL|        1|        ENGINE|                         1|                     5|                 8| Castro/Upper Market|(37.7618954753708...|020110215-E06|2.7666667|\n",
      "|  20110274|   M07|       2003381|Medical Incident|01/11/2002|01/11/2002|               Other|01/11/2002 03:31:...|2700 Block of MIS...|  SF|  94110|      B06|         11|5525|               1|       1|            2|   true|         NULL|        1|         MEDIC|                         1|                     6|                 9|             Mission|(37.7530339738059...|020110274-M07|2.1833334|\n",
      "|  20110275|   T15|       2003382|  Structure Fire|01/11/2002|01/11/2002|               Other|01/11/2002 02:59:...|BRUNSWICK ST/GUTT...|  SF|  94112|      B09|         43|6218|               3|       3|            3|  false|         NULL|        1|         TRUCK|                         1|                     9|                11|           Excelsior|(37.7105545807996...|020110275-T15|      2.5|\n",
      "|  20110304|   E03|       2003399|Medical Incident|01/11/2002|01/11/2002|               Other|01/11/2002 04:22:...|1000 Block of SUT...|  SF|  94109|      B04|         03|1557|               3|       3|            3|  false|         NULL|        1|        ENGINE|                         1|                     4|                 3|            Nob Hill|(37.7881263034393...|020110304-E03|2.4166667|\n",
      "|  20110308|   E14|       2003403|Medical Incident|01/11/2002|01/11/2002|               Other|01/11/2002 04:18:...|100 Block of 21ST...|  SF|  94121|      B07|         14|7173|               3|       3|            3|  false|         NULL|        1|        ENGINE|                         1|                     7|                 1|      Outer Richmond|(37.7850084431077...|020110308-E14|     4.95|\n",
      "|  20110313|   B10|       2003408|  Structure Fire|01/11/2002|01/11/2002|               Other|01/11/2002 04:09:...|700 Block of CAPP ST|  SF|  94110|      B06|         07|5472|               3|       3|            3|  false|         NULL|        1|         CHIEF|                         6|                     6|                 9|             Mission|(37.7547064357942...|020110313-B10|1.4166666|\n",
      "|  20110313|    D3|       2003408|  Structure Fire|01/11/2002|01/11/2002|               Other|01/11/2002 04:09:...|700 Block of CAPP ST|  SF|  94110|      B06|         07|5472|               3|       3|            3|  false|         NULL|        1|         CHIEF|                         4|                     6|                 9|             Mission|(37.7547064357942...| 020110313-D3|2.5333333|\n",
      "|  20110313|   E32|       2003408|  Structure Fire|01/11/2002|01/11/2002|               Other|01/11/2002 04:09:...|700 Block of CAPP ST|  SF|  94110|      B06|         07|5472|               3|       3|            3|   true|         NULL|        1|        ENGINE|                         8|                     6|                 9|             Mission|(37.7547064357942...|020110313-E32|1.8833333|\n",
      "|  20110315|   RC2|       2003409|Medical Incident|01/11/2002|01/11/2002|               Other|01/11/2002 04:34:...|200 Block of LAGU...|  SF|  94116|      B08|         20|8635|               3|       3|            3|   true|         NULL|        1|RESCUE CAPTAIN|                         2|                     8|                 7|  West of Twin Peaks|(37.7501117393668...|020110315-RC2|     5.35|\n",
      "|  20110330|   E14|       2003417|Medical Incident|01/11/2002|01/11/2002|               Other|01/11/2002 04:51:...|BALBOA ST/PARK PR...|  SF|  94118|      B07|         31|7145|               3|       3|            3|  false|         NULL|        1|        ENGINE|                         1|                     7|                 1|      Inner Richmond|(37.7768682293368...|020110330-E14|      2.0|\n",
      "|  20110330|   M12|       2003417|Medical Incident|01/11/2002|01/11/2002|               Other|01/11/2002 04:51:...|BALBOA ST/PARK PR...|  SF|  94118|      B07|         31|7145|               3|       3|            3|   true|         NULL|        1|         MEDIC|                         2|                     7|                 1|      Inner Richmond|(37.7768682293368...|020110330-M12|1.8166667|\n",
      "+----------+------+--------------+----------------+----------+----------+--------------------+--------------------+--------------------+----+-------+---------+-----------+----+----------------+--------+-------------+-------+-------------+---------+--------------+--------------------------+----------------------+------------------+--------------------+--------------------+-------------+---------+\n",
      "only showing top 20 rows\n",
      "\n"
     ]
    }
   ],
   "source": [
    "sf_df=Spark.read.csv(\"sf-fire-calls.csv\",header=True, inferSchema=True)\n",
    "sf_df.show()"
   ]
  },
  {
   "cell_type": "markdown",
   "metadata": {},
   "source": [
    "# 2. show the columns"
   ]
  },
  {
   "cell_type": "code",
   "execution_count": 4,
   "metadata": {},
   "outputs": [
    {
     "data": {
      "text/plain": [
       "['CallNumber',\n",
       " 'UnitID',\n",
       " 'IncidentNumber',\n",
       " 'CallType',\n",
       " 'CallDate',\n",
       " 'WatchDate',\n",
       " 'CallFinalDisposition',\n",
       " 'AvailableDtTm',\n",
       " 'Address',\n",
       " 'City',\n",
       " 'Zipcode',\n",
       " 'Battalion',\n",
       " 'StationArea',\n",
       " 'Box',\n",
       " 'OriginalPriority',\n",
       " 'Priority',\n",
       " 'FinalPriority',\n",
       " 'ALSUnit',\n",
       " 'CallTypeGroup',\n",
       " 'NumAlarms',\n",
       " 'UnitType',\n",
       " 'UnitSequenceInCallDispatch',\n",
       " 'FirePreventionDistrict',\n",
       " 'SupervisorDistrict',\n",
       " 'Neighborhood',\n",
       " 'Location',\n",
       " 'RowID',\n",
       " 'Delay']"
      ]
     },
     "execution_count": 4,
     "metadata": {},
     "output_type": "execute_result"
    }
   ],
   "source": [
    "sf_df.columns"
   ]
  },
  {
   "cell_type": "markdown",
   "metadata": {},
   "source": [
    "## 3. Print the schema of the dataset"
   ]
  },
  {
   "cell_type": "code",
   "execution_count": 5,
   "metadata": {},
   "outputs": [
    {
     "name": "stdout",
     "output_type": "stream",
     "text": [
      "root\n",
      " |-- CallNumber: integer (nullable = true)\n",
      " |-- UnitID: string (nullable = true)\n",
      " |-- IncidentNumber: integer (nullable = true)\n",
      " |-- CallType: string (nullable = true)\n",
      " |-- CallDate: string (nullable = true)\n",
      " |-- WatchDate: string (nullable = true)\n",
      " |-- CallFinalDisposition: string (nullable = true)\n",
      " |-- AvailableDtTm: string (nullable = true)\n",
      " |-- Address: string (nullable = true)\n",
      " |-- City: string (nullable = true)\n",
      " |-- Zipcode: integer (nullable = true)\n",
      " |-- Battalion: string (nullable = true)\n",
      " |-- StationArea: string (nullable = true)\n",
      " |-- Box: string (nullable = true)\n",
      " |-- OriginalPriority: string (nullable = true)\n",
      " |-- Priority: string (nullable = true)\n",
      " |-- FinalPriority: integer (nullable = true)\n",
      " |-- ALSUnit: boolean (nullable = true)\n",
      " |-- CallTypeGroup: string (nullable = true)\n",
      " |-- NumAlarms: integer (nullable = true)\n",
      " |-- UnitType: string (nullable = true)\n",
      " |-- UnitSequenceInCallDispatch: integer (nullable = true)\n",
      " |-- FirePreventionDistrict: string (nullable = true)\n",
      " |-- SupervisorDistrict: string (nullable = true)\n",
      " |-- Neighborhood: string (nullable = true)\n",
      " |-- Location: string (nullable = true)\n",
      " |-- RowID: string (nullable = true)\n",
      " |-- Delay: double (nullable = true)\n",
      "\n"
     ]
    }
   ],
   "source": [
    "sf_df.printSchema()"
   ]
  },
  {
   "cell_type": "markdown",
   "metadata": {},
   "source": [
    "# Questions\n",
    " 1. What are  all the different types of fire in the calls type"
   ]
  },
  {
   "cell_type": "code",
   "execution_count": 6,
   "metadata": {},
   "outputs": [
    {
     "name": "stdout",
     "output_type": "stream",
     "text": [
      "+--------------+-----+\n",
      "|      CallType|count|\n",
      "+--------------+-----+\n",
      "|   Marine Fire|   14|\n",
      "|  Vehicle Fire|  854|\n",
      "|  Outside Fire| 2094|\n",
      "|Structure Fire|23319|\n",
      "+--------------+-----+\n",
      "\n"
     ]
    }
   ],
   "source": [
    "\n",
    "sf_1= sf_df.select(\"CallType\")\n",
    "fi_sf= sf_1.filter((sf_1[\"CallType\"]).like(\"%Fire%\")).groupBy(\"CallType\").count()\n",
    "fi_sf.show()"
   ]
  },
  {
   "cell_type": "markdown",
   "metadata": {},
   "source": [
    "# \n",
    "2. How many fire calls in 2018 were categorized as \"medical incidents\"?"
   ]
  },
  {
   "cell_type": "code",
   "execution_count": 7,
   "metadata": {},
   "outputs": [
    {
     "name": "stdout",
     "output_type": "stream",
     "text": [
      "+----------------+--------+-----+\n",
      "|        CallType|CallYear|count|\n",
      "+----------------+--------+-----+\n",
      "|Medical Incident|    2018| 7004|\n",
      "+----------------+--------+-----+\n",
      "\n"
     ]
    }
   ],
   "source": [
    "\n",
    "sf_2 = sf_df.withColumn(\"CallYear\", year(to_date(sf_df[\"CallDate\"], 'MM/dd/yyyy')))\n",
    "fi_2018= sf_2.filter((sf_2[\"CallYear\"]==2018))\n",
    "res_1=fi_2018.filter((sf_2[\"CallType\"]==\"Medical Incident\"))\n",
    "res_1.groupBy(\"CallType\",\"CallYear\").count().show()"
   ]
  },
  {
   "cell_type": "markdown",
   "metadata": {},
   "source": [
    "  3. What were all the different types of fire calls  in 2018?"
   ]
  },
  {
   "cell_type": "code",
   "execution_count": 8,
   "metadata": {},
   "outputs": [
    {
     "name": "stdout",
     "output_type": "stream",
     "text": [
      "+--------------------+-----+\n",
      "|            CallType|count|\n",
      "+--------------------+-----+\n",
      "|    Medical Incident| 7004|\n",
      "|              Alarms| 1144|\n",
      "|      Structure Fire|  906|\n",
      "|   Traffic Collision|  433|\n",
      "|        Outside Fire|  153|\n",
      "|               Other|  114|\n",
      "|Citizen Assist / ...|  113|\n",
      "|Gas Leak (Natural...|   69|\n",
      "|        Water Rescue|   43|\n",
      "|Elevator / Escala...|   36|\n",
      "|   Electrical Hazard|   30|\n",
      "|        Vehicle Fire|   28|\n",
      "|Smoke Investigati...|   28|\n",
      "|Odor (Strange / U...|   10|\n",
      "|          Fuel Spill|   10|\n",
      "|              HazMat|    5|\n",
      "|Train / Rail Inci...|    5|\n",
      "|  Suspicious Package|    3|\n",
      "|       Assist Police|    1|\n",
      "|           Explosion|    1|\n",
      "+--------------------+-----+\n",
      "\n"
     ]
    }
   ],
   "source": [
    "\n",
    "final=fi_2018.groupBy(\"CallType\").count().orderBy(\"count\", ascending=False).alias(\"TotalCalls\")\n",
    "final.show()"
   ]
  },
  {
   "cell_type": "markdown",
   "metadata": {},
   "source": [
    "# \n",
    "4. Which neighborhood in San Francisco generated the most fire calls in 2018?"
   ]
  },
  {
   "cell_type": "code",
   "execution_count": 9,
   "metadata": {},
   "outputs": [
    {
     "name": "stdout",
     "output_type": "stream",
     "text": [
      "+--------------------+-----+\n",
      "|        Neighborhood|count|\n",
      "+--------------------+-----+\n",
      "|          Tenderloin| 1393|\n",
      "|     South of Market| 1053|\n",
      "|             Mission|  913|\n",
      "|Financial Distric...|  772|\n",
      "|Bayview Hunters P...|  522|\n",
      "+--------------------+-----+\n",
      "only showing top 5 rows\n",
      "\n"
     ]
    }
   ],
   "source": [
    "\n",
    "sf_4=fi_2018.groupBy(sf_2[\"Neighborhood\"]).count()\n",
    "sf_4.orderBy(\"count\",ascending=False).show(5)"
   ]
  },
  {
   "cell_type": "markdown",
   "metadata": {},
   "source": [
    "#\n",
    "5. Which neighborhoods had the worst response times to fire calls in 2018?"
   ]
  },
  {
   "cell_type": "code",
   "execution_count": 10,
   "metadata": {},
   "outputs": [
    {
     "name": "stdout",
     "output_type": "stream",
     "text": [
      "+--------------------+----------+\n",
      "|        Neighborhood|max(Delay)|\n",
      "+--------------------+----------+\n",
      "|           Chinatown| 491.26666|\n",
      "|Financial Distric...| 406.63333|\n",
      "|          Tenderloin| 340.48334|\n",
      "|      Haight Ashbury| 175.86667|\n",
      "|Bayview Hunters P...|     155.8|\n",
      "|     Pacific Heights| 129.01666|\n",
      "|        Potrero Hill|     109.8|\n",
      "|        Inner Sunset| 106.13333|\n",
      "|     South of Market|  94.71667|\n",
      "|      Inner Richmond| 90.433334|\n",
      "|           Excelsior|  83.76667|\n",
      "| Castro/Upper Market|  74.13333|\n",
      "|    Western Addition| 67.916664|\n",
      "|            Nob Hill|     67.45|\n",
      "|             Mission| 54.666668|\n",
      "|    Presidio Heights| 52.883335|\n",
      "|       Outer Mission| 43.383335|\n",
      "|  West of Twin Peaks|      43.2|\n",
      "|         North Beach| 40.933334|\n",
      "|            Presidio| 38.816666|\n",
      "+--------------------+----------+\n",
      "only showing top 20 rows\n",
      "\n"
     ]
    }
   ],
   "source": [
    "\n",
    "sf_5=fi_2018.groupBy(sf_2[\"Neighborhood\"]).agg(max(sf_2[\"Delay\"])).alias(\"Worst\")\n",
    "sf_5.orderBy(\"max(Delay)\",ascending= False).show()"
   ]
  },
  {
   "cell_type": "markdown",
   "metadata": {},
   "source": [
    "6. What was the average response time for fire calls in each neighborhood in 2018?"
   ]
  },
  {
   "cell_type": "code",
   "execution_count": 11,
   "metadata": {},
   "outputs": [
    {
     "name": "stdout",
     "output_type": "stream",
     "text": [
      "+--------------------+----------------+\n",
      "|        Neighborhood|Average response|\n",
      "+--------------------+----------------+\n",
      "|        Inner Sunset|          4.4381|\n",
      "|      Haight Ashbury|          4.2664|\n",
      "|        Lincoln Park|          3.3111|\n",
      "|           Japantown|          3.3477|\n",
      "|                None|          3.3633|\n",
      "|         North Beach|          3.8892|\n",
      "|   Lone Mountain/USF|          3.2472|\n",
      "|    Western Addition|          3.2843|\n",
      "|      Bernal Heights|          3.8465|\n",
      "|         Mission Bay|          3.8549|\n",
      "|        Hayes Valley|          3.3704|\n",
      "|Financial Distric...|          4.3441|\n",
      "|           Lakeshore|          3.8816|\n",
      "|Bayview Hunters P...|          4.6206|\n",
      "|   Visitacion Valley|          3.4838|\n",
      "|      Inner Richmond|          4.3647|\n",
      "|            Nob Hill|             3.8|\n",
      "|Oceanview/Merced/...|          3.9472|\n",
      "|      Outer Richmond|          3.6481|\n",
      "|     Treasure Island|          5.4537|\n",
      "+--------------------+----------------+\n",
      "only showing top 20 rows\n",
      "\n"
     ]
    }
   ],
   "source": [
    "sf_6=fi_2018.groupBy(sf_2[\"Neighborhood\"]).agg(round(avg(sf_2[\"Delay\"]),4)).withColumnRenamed(\"round(avg(Delay), 4)\",\"Average response\")\n",
    "sf_6.show()"
   ]
  },
  {
   "cell_type": "markdown",
   "metadata": {},
   "source": [
    "7. How many fire calls were handled by ALS units versus non-ALS units in 2018?/"
   ]
  },
  {
   "cell_type": "code",
   "execution_count": 12,
   "metadata": {},
   "outputs": [
    {
     "name": "stdout",
     "output_type": "stream",
     "text": [
      "+-------+-----+\n",
      "|ALSUnit|count|\n",
      "+-------+-----+\n",
      "|   true| 6676|\n",
      "|  false| 3460|\n",
      "+-------+-----+\n",
      "\n"
     ]
    }
   ],
   "source": [
    "sf_7=fi_2018.groupBy(sf_2[\"ALSUnit\"]).count().show()"
   ]
  },
  {
   "cell_type": "markdown",
   "metadata": {},
   "source": [
    "8. What were all the different unit types?"
   ]
  },
  {
   "cell_type": "code",
   "execution_count": 13,
   "metadata": {},
   "outputs": [
    {
     "name": "stdout",
     "output_type": "stream",
     "text": [
      "+--------------+-----+\n",
      "|      UnitType|count|\n",
      "+--------------+-----+\n",
      "|        ENGINE|68839|\n",
      "|         MEDIC|55191|\n",
      "|         TRUCK|18973|\n",
      "|         CHIEF|13036|\n",
      "|       PRIVATE|10956|\n",
      "|RESCUE CAPTAIN| 4221|\n",
      "|  RESCUE SQUAD| 2952|\n",
      "|       SUPPORT|  619|\n",
      "|       AIRPORT|  358|\n",
      "| INVESTIGATION|  151|\n",
      "+--------------+-----+\n",
      "\n"
     ]
    }
   ],
   "source": [
    "sf_8=sf_df.groupBy(sf_2[\"UnitType\"]).count()\n",
    "unit_sf=sf_8.orderBy(\"count\",ascending=False).show()"
   ]
  },
  {
   "cell_type": "markdown",
   "metadata": {},
   "source": [
    "9. Is there a correlation between neighborhood, zip code, and number of fire calls"
   ]
  },
  {
   "cell_type": "code",
   "execution_count": 14,
   "metadata": {},
   "outputs": [
    {
     "name": "stdout",
     "output_type": "stream",
     "text": [
      "+--------------------+-------+-----+\n",
      "|        Neighborhood|Zipcode|count|\n",
      "+--------------------+-------+-----+\n",
      "|        Inner Sunset|  94122| 2161|\n",
      "|Bayview Hunters P...|  94124| 9150|\n",
      "|        Inner Sunset|  94114|   20|\n",
      "|  West of Twin Peaks|  94112|  760|\n",
      "|      Haight Ashbury|  94114|   21|\n",
      "|           Glen Park|  94110|   25|\n",
      "|           Excelsior|  94112| 3237|\n",
      "|        Russian Hill|  94109| 2261|\n",
      "|                None|  94124|    7|\n",
      "|           Chinatown|  94133| 1861|\n",
      "|     Pacific Heights|  94115| 2100|\n",
      "|Oceanview/Merced/...|  94127|   12|\n",
      "|        Potrero Hill|  94103|    5|\n",
      "|        Inner Sunset|  94117|  224|\n",
      "|    Golden Gate Park|  94117|  107|\n",
      "|                None|   NULL|  141|\n",
      "|          Noe Valley|  94131|  763|\n",
      "|    Western Addition|  94117|  315|\n",
      "|        McLaren Park|  94112|   36|\n",
      "|      Outer Richmond|  94121| 4121|\n",
      "+--------------------+-------+-----+\n",
      "only showing top 20 rows\n",
      "\n"
     ]
    }
   ],
   "source": [
    "fire_calls_count = sf_2.groupBy(\"Neighborhood\", \"Zipcode\").count()\n",
    "fire_calls_count.show()"
   ]
  },
  {
   "cell_type": "markdown",
   "metadata": {},
   "source": [
    "10. Which year had the most fire calls?"
   ]
  },
  {
   "cell_type": "code",
   "execution_count": 15,
   "metadata": {},
   "outputs": [
    {
     "name": "stdout",
     "output_type": "stream",
     "text": [
      "+--------+----------+\n",
      "|CallYear|Totalcalls|\n",
      "+--------+----------+\n",
      "|    2000|      5459|\n",
      "|    2001|      7713|\n",
      "|    2002|      8090|\n",
      "|    2006|      8174|\n",
      "|    2007|      8255|\n",
      "|    2005|      8282|\n",
      "|    2004|      8283|\n",
      "|    2003|      8499|\n",
      "|    2009|      8789|\n",
      "|    2008|      8869|\n",
      "|    2010|      9341|\n",
      "|    2012|      9674|\n",
      "|    2011|      9735|\n",
      "|    2013|     10020|\n",
      "|    2018|     10136|\n",
      "|    2014|     10775|\n",
      "|    2015|     11458|\n",
      "|    2016|     11609|\n",
      "|    2017|     12135|\n",
      "+--------+----------+\n",
      "\n"
     ]
    }
   ],
   "source": [
    "years1= sf_2.groupBy(sf_2[\"CallYear\"]).count()\n",
    "finals=years1.withColumnRenamed(\"count\",\"Totalcalls\").orderBy(\"Totalcalls\",ascendeing=True)\n",
    "finals.show()"
   ]
  },
  {
   "cell_type": "markdown",
   "metadata": {},
   "source": [
    "11. how many num alarms is called during fire inciddent?"
   ]
  },
  {
   "cell_type": "code",
   "execution_count": 17,
   "metadata": {},
   "outputs": [
    {
     "name": "stdout",
     "output_type": "stream",
     "text": [
      "+---------+------+\n",
      "|NumAlarms| count|\n",
      "+---------+------+\n",
      "|        1|174718|\n",
      "|        3|   121|\n",
      "|        5|    17|\n",
      "|        4|    62|\n",
      "|        2|   378|\n",
      "+---------+------+\n",
      "\n"
     ]
    }
   ],
   "source": [
    "sf_11=sf_df.groupBy(sf_2[\"NumAlarms\"]).count().show()"
   ]
  },
  {
   "cell_type": "markdown",
   "metadata": {},
   "source": [
    "12. How many fire calls in 2018 required more than one alarm?"
   ]
  },
  {
   "cell_type": "code",
   "execution_count": 18,
   "metadata": {},
   "outputs": [
    {
     "name": "stdout",
     "output_type": "stream",
     "text": [
      "+----------+------+--------------+--------------+----------+----------+--------------------+--------------------+--------------------+-------------+-------+---------+-----------+----+----------------+--------+-------------+-------+-------------+---------+--------------+--------------------------+----------------------+------------------+--------------------+--------------------+-------------+---------+--------+\n",
      "|CallNumber|UnitID|IncidentNumber|      CallType|  CallDate| WatchDate|CallFinalDisposition|       AvailableDtTm|             Address|         City|Zipcode|Battalion|StationArea| Box|OriginalPriority|Priority|FinalPriority|ALSUnit|CallTypeGroup|NumAlarms|      UnitType|UnitSequenceInCallDispatch|FirePreventionDistrict|SupervisorDistrict|        Neighborhood|            Location|        RowID|    Delay|CallYear|\n",
      "+----------+------+--------------+--------------+----------+----------+--------------------+--------------------+--------------------+-------------+-------+---------+-----------+----+----------------+--------+-------------+-------+-------------+---------+--------------+--------------------------+----------------------+------------------+--------------------+--------------------+-------------+---------+--------+\n",
      "| 180541200|   MA1|      18023009|Structure Fire|02/23/2018|02/23/2018|                Fire|02/23/2018 01:09:...|500 Block of SANC...|San Francisco|  94114|      B06|         06|5436|               3|       3|            3|  false|         Fire|        2|       SUPPORT|                        20|                     6|                 8| Castro/Upper Market|(37.7607605605395...|180541200-MA1|13.916667|    2018|\n",
      "| 180763074|   T18|      18032545|Structure Fire|03/17/2018|03/17/2018|                Fire|03/18/2018 09:15:...|600 Block of UNIO...|San Francisco|  94133|      B01|         28|1334|               3|       3|            3|  false|         Fire|        4|         TRUCK|                        53|                     1|                 3|           Chinatown|(37.8002230373630...|180763074-T18|491.26666|    2018|\n",
      "| 180790265|   B02|      18033459|Structure Fire|03/20/2018|03/19/2018|                Fire|03/20/2018 06:48:...|1500 Block of JAC...|San Francisco|  94109|      B01|         41|1633|               3|       3|            3|  false|         Fire|        2|         CHIEF|                         9|                     4|                 3|        Russian Hill|(37.7941946454163...|180790265-B02|18.616667|    2018|\n",
      "| 180790265|    D2|      18033459|Structure Fire|03/20/2018|03/19/2018|                Fire|03/20/2018 05:42:...|1500 Block of JAC...|San Francisco|  94109|      B01|         41|1633|               3|       3|            3|  false|         Fire|        2|         CHIEF|                         7|                     4|                 3|        Russian Hill|(37.7941946454163...| 180790265-D2|1.9333333|    2018|\n",
      "| 181113674|   B07|      18047436|Structure Fire|04/21/2018|04/21/2018|                Fire|04/22/2018 02:04:...|    1806-1810 8TH AV|San Francisco|  94122|      B08|         22|7336|               3|       3|            3|  false|         Fire|        3|         CHIEF|                         4|                     8|                 7|        Inner Sunset|(37.7547142036689...|181113674-B07|1.8833333|    2018|\n",
      "| 181113674|   T12|      18047436|Structure Fire|04/21/2018|04/21/2018|                Fire|04/22/2018 02:28:...|    1806-1810 8TH AV|San Francisco|  94122|      B08|         22|7336|               3|       3|            3|  false|         Fire|        3|         TRUCK|                         2|                     8|                 7|        Inner Sunset|(37.7547142036689...|181113674-T12| 5.733333|    2018|\n",
      "| 181741502|   E26|      18073726|Structure Fire|06/23/2018|06/23/2018|                Fire|06/23/2018 01:22:...|900 Block of ELLS...|San Francisco|  94110|      B06|         32|5645|               3|       3|            3|   true|         Fire|        2|        ENGINE|                         4|                     6|                 9|      Bernal Heights|(37.7330187798698...|181741502-E26| 9.766666|    2018|\n",
      "| 180162686|   RC1|      18006970|Structure Fire|01/16/2018|01/16/2018|                Fire|01/16/2018 05:45:...|1400 Block of TAY...|San Francisco|  94133|      B01|         02|1443|               3|       3|            3|   true|        Alarm|        2|RESCUE CAPTAIN|                        11|                     1|                 3|            Nob Hill|(37.7956493531705...|180162686-RC1|7.7833333|    2018|\n",
      "| 182952916|    D2|      18123738|Structure Fire|10/22/2018|10/22/2018|                Fire|10/22/2018 10:16:...|400 Block of DAVI...|San Francisco|  94111|      B01|         13|1142|               3|       3|            3|  false|         Fire|        3|         CHIEF|                        37|                     1|                 3|Financial Distric...|(37.7966901288508...| 182952916-D2|2.7166667|    2018|\n",
      "+----------+------+--------------+--------------+----------+----------+--------------------+--------------------+--------------------+-------------+-------+---------+-----------+----+----------------+--------+-------------+-------+-------------+---------+--------------+--------------------------+----------------------+------------------+--------------------+--------------------+-------------+---------+--------+\n",
      "\n"
     ]
    }
   ],
   "source": [
    "sf_12=fi_2018.filter(sf_2[\"NumAlarms\"]>1).show()"
   ]
  },
  {
   "cell_type": "markdown",
   "metadata": {},
   "source": [
    "13. How many fire calls required five alarm?"
   ]
  },
  {
   "cell_type": "code",
   "execution_count": 19,
   "metadata": {},
   "outputs": [
    {
     "name": "stdout",
     "output_type": "stream",
     "text": [
      "+----------+------+--------------+--------------+----------+----------+--------------------+--------------------+--------------------+-------------+-------+---------+-----------+----+----------------+--------+-------------+-------+-------------+---------+------------+--------------------------+----------------------+------------------+-------------------+--------------------+-------------+---------+\n",
      "|CallNumber|UnitID|IncidentNumber|      CallType|  CallDate| WatchDate|CallFinalDisposition|       AvailableDtTm|             Address|         City|Zipcode|Battalion|StationArea| Box|OriginalPriority|Priority|FinalPriority|ALSUnit|CallTypeGroup|NumAlarms|    UnitType|UnitSequenceInCallDispatch|FirePreventionDistrict|SupervisorDistrict|       Neighborhood|            Location|        RowID|    Delay|\n",
      "+----------+------+--------------+--------------+----------+----------+--------------------+--------------------+--------------------+-------------+-------+---------+-----------+----+----------------+--------+-------------+-------+-------------+---------+------------+--------------------------+----------------------+------------------+-------------------+--------------------+-------------+---------+\n",
      "|  20750413|   T09|       2022737|Structure Fire|03/16/2002|03/16/2002|               Other|03/17/2002 01:50:...|600 Block of BEAC...|           SF|  94109|      B01|         28|1615|               3|       3|            3|   true|         NULL|        5|       TRUCK|                        59|                     1|                 2|       Russian Hill|(37.8067731854953...|020750413-T09|336.33334|\n",
      "|  20750413|   T11|       2022737|Structure Fire|03/16/2002|03/16/2002|               Other|03/17/2002 01:24:...|600 Block of BEAC...|           SF|  94109|      B01|         28|1615|               3|       3|            3|   true|         NULL|        5|       TRUCK|                        54|                     1|                 2|       Russian Hill|(37.8067731854953...|020750413-T11|330.66666|\n",
      "|  51890022|   E01|       5050334|Structure Fire|07/08/2005|07/07/2005|               Other|07/08/2005 03:05:...|3300 Block of 16T...|           SF|  94114|      B02|         06|5234|               3|       3|            3|   true|         NULL|        5|      ENGINE|                        63|                     2|                 8|Castro/Upper Market|(37.7646648228018...|051890022-E01|     18.1|\n",
      "| 113560168|    57|      11118181|Structure Fire|12/22/2011|12/22/2011|    Code 2 Transport|12/22/2011 01:44:...|1500 Block of GOL...|           SF|  94115|      B05|         05|4134|               3|       3|            3|   true|         NULL|        5|       MEDIC|                        32|                     5|                 5|   Western Addition|(37.7790955649905...| 113560168-57|29.083334|\n",
      "| 113560168|   B10|      11118181|Structure Fire|12/22/2011|12/22/2011|               Other|12/22/2011 05:07:...|1500 Block of GOL...|           SF|  94115|      B05|         05|4134|               3|       3|            3|  false|         NULL|        5|       CHIEF|                        37|                     5|                 5|   Western Addition|(37.7790955649905...|113560168-B10|47.016666|\n",
      "| 140700278|   E43|      14023691|Structure Fire|03/11/2014|03/11/2014|    Code 2 Transport|03/12/2014 04:25:...|4TH ST/CHINA BASI...|SAN FRANCISCO|  94158|      B03|         08|2231|               3|       3|            3|  false|         Fire|        5|      ENGINE|                        58|                     3|                 6|        Mission Bay|(37.7718971758313...|140700278-E43|   414.85|\n",
      "| 140700278|   T03|      14023691|Structure Fire|03/11/2014|03/11/2014|    Code 2 Transport|03/11/2014 11:57:...|4TH ST/CHINA BASI...|SAN FRANCISCO|  94158|      B03|         08|2231|               3|       3|            3|  false|         Fire|        5|       TRUCK|                        18|                     3|                 6|        Mission Bay|(37.7718971758313...|140700278-T03|     19.3|\n",
      "| 142471768|    78|      14086047|Structure Fire|09/04/2014|09/04/2014|               Other|09/04/2014 02:52:...|2600 Block of MIS...|San Francisco|  94110|      B06|         07|5472|               3|       3|            3|   true|         Fire|        5|       MEDIC|                         4|                     6|                 9|            Mission|(37.7546325890357...| 142471768-78|      3.8|\n",
      "| 142471768|   T07|      14086047|Structure Fire|09/04/2014|09/04/2014|               Other|09/04/2014 04:54:...|2600 Block of MIS...|San Francisco|  94110|      B06|         07|5472|               3|       3|            3|  false|         Fire|        5|       TRUCK|                         2|                     6|                 9|            Mission|(37.7546325890357...|142471768-T07| 4.383333|\n",
      "| 142471768|   T08|      14086047|Structure Fire|09/04/2014|09/04/2014|               Other|09/04/2014 04:39:...|2600 Block of MIS...|San Francisco|  94110|      B06|         07|5472|               3|       3|            3|  false|         Fire|        5|       TRUCK|                        28|                     6|                 9|            Mission|(37.7546325890357...|142471768-T08|41.483334|\n",
      "| 161701875|   CD1|      16067026|Structure Fire|06/18/2016|06/18/2016|                Fire|06/18/2016 08:31:...|3300 Block of MIS...|San Francisco|  94110|      B06|         32|5625|               3|       3|            3|  false|         Fire|        5|       CHIEF|                        49|                     6|                 9|     Bernal Heights|(37.7436052440139...|161701875-CD1|    116.1|\n",
      "| 161701875|   RS2|      16067026|Structure Fire|06/18/2016|06/18/2016|                Fire|06/18/2016 05:50:...|3300 Block of MIS...|San Francisco|  94110|      B06|         32|5625|               3|       3|            3|  false|         Fire|        5|RESCUE SQUAD|                         2|                     6|                 9|     Bernal Heights|(37.7436052440139...|161701875-RS2|     2.05|\n",
      "| 161701875|   T12|      16067026|Structure Fire|06/18/2016|06/18/2016|                Fire|06/19/2016 12:27:...|3300 Block of MIS...|San Francisco|  94110|      B06|         32|5625|               3|       3|            3|   true|         Fire|        5|       TRUCK|                        59|                     6|                 9|     Bernal Heights|(37.7436052440139...|161701875-T12|   297.05|\n",
      "|  10380039|   E24|       1011468|Structure Fire|02/07/2001|02/06/2001|               Other|02/07/2001 08:41:...|1300 Block of PAG...|           SF|  94117|      B05|         21|4355|               3|       3|            3|  false|         NULL|        5|      ENGINE|                        30|                     5|                 5|     Haight Ashbury|(37.7715187909568...|010380039-E24|    20.95|\n",
      "|  10380039|    J1|       1011468|Structure Fire|02/07/2001|02/06/2001|               Other|02/07/2001 09:24:...|1300 Block of PAG...|           SF|  94117|      B05|         21|4355|               3|       3|            3|  false|         NULL|        5|     SUPPORT|                        28|                     5|                 5|     Haight Ashbury|(37.7715187909568...| 010380039-J1|13.433333|\n",
      "|  10380039|   M29|       1011468|Structure Fire|02/07/2001|02/06/2001|               Other|02/07/2001 07:59:...|1300 Block of PAG...|           SF|  94117|      B05|         21|4355|               3|       3|            3|   true|         NULL|        5|       MEDIC|                        44|                     5|                 5|     Haight Ashbury|(37.7715187909568...|010380039-M29|    48.75|\n",
      "|  10380039|   T18|       1011468|Structure Fire|02/07/2001|02/06/2001|               Other|02/07/2001 01:08:...|1300 Block of PAG...|           SF|  94117|      B05|         21|4355|               3|       3|            3|  false|         NULL|        5|       TRUCK|                        46|                     5|                 5|     Haight Ashbury|(37.7715187909568...|010380039-T18|280.76666|\n",
      "+----------+------+--------------+--------------+----------+----------+--------------------+--------------------+--------------------+-------------+-------+---------+-----------+----+----------------+--------+-------------+-------+-------------+---------+------------+--------------------------+----------------------+------------------+-------------------+--------------------+-------------+---------+\n",
      "\n"
     ]
    }
   ],
   "source": [
    "sf_13=sf_df.filter(sf_df[\"NumAlarms\"]==5)\n",
    "sf_13.show()"
   ]
  },
  {
   "cell_type": "markdown",
   "metadata": {},
   "source": [
    "14. What is the trend in the number of non-life-threatening fire calls over the years?"
   ]
  },
  {
   "cell_type": "code",
   "execution_count": 20,
   "metadata": {},
   "outputs": [
    {
     "name": "stdout",
     "output_type": "stream",
     "text": [
      "+--------------------+--------+-----+\n",
      "|       CallTypeGroup|CallYear|count|\n",
      "+--------------------+--------+-----+\n",
      "|Non Life-threatening|    2012| 2149|\n",
      "|Non Life-threatening|    2013| 2352|\n",
      "|Non Life-threatening|    2014| 2442|\n",
      "|Non Life-threatening|    2017| 2970|\n",
      "|Non Life-threatening|    2018| 2623|\n",
      "|Non Life-threatening|    2015| 2638|\n",
      "|Non Life-threatening|    2016| 2846|\n",
      "+--------------------+--------+-----+\n",
      "\n"
     ]
    }
   ],
   "source": [
    "sf_14=sf_2.filter(sf_df[\"CallTypeGroup\"]==\"Non Life-threatening\")\n",
    "sf_ca=sf_14.groupBy(sf_2[\"CallTypeGroup\"],sf_2[\"CallYear\"]).count().show()"
   ]
  },
  {
   "cell_type": "markdown",
   "metadata": {},
   "source": [
    "15. How can we use SQL tables to store this data and read it back?\n"
   ]
  },
  {
   "cell_type": "code",
   "execution_count": 21,
   "metadata": {},
   "outputs": [],
   "source": [
    "sf_2.createOrReplaceTempView(\"sf_2\")"
   ]
  },
  {
   "cell_type": "code",
   "execution_count": 22,
   "metadata": {},
   "outputs": [
    {
     "name": "stdout",
     "output_type": "stream",
     "text": [
      "+----------+------+--------------+-----------------+----------+----------+--------------------+--------------------+--------------------+-------------+-------+---------+-----------+----+----------------+--------+-------------+-------+--------------------+---------+--------+--------------------------+----------------------+------------------+--------------------+--------------------+---------------+---------+--------+\n",
      "|CallNumber|UnitID|IncidentNumber|         CallType|  CallDate| WatchDate|CallFinalDisposition|       AvailableDtTm|             Address|         City|Zipcode|Battalion|StationArea| Box|OriginalPriority|Priority|FinalPriority|ALSUnit|       CallTypeGroup|NumAlarms|UnitType|UnitSequenceInCallDispatch|FirePreventionDistrict|SupervisorDistrict|        Neighborhood|            Location|          RowID|    Delay|CallYear|\n",
      "+----------+------+--------------+-----------------+----------+----------+--------------------+--------------------+--------------------+-------------+-------+---------+-----------+----+----------------+--------+-------------+-------+--------------------+---------+--------+--------------------------+----------------------+------------------+--------------------+--------------------+---------------+---------+--------+\n",
      "| 180190613|   E10|      18007977|   Structure Fire|01/19/2018|01/18/2018|                Fire|01/19/2018 07:40:...|3200 Block of CLA...|San Francisco|  94115|      B04|         10|4335|               3|       3|            3|   true|               Alarm|        1|  ENGINE|                         1|                     4|                 2|    Presidio Heights|(37.7892141357447...|  180190613-E10|2.8833334|    2018|\n",
      "| 180190640|   T08|      18007978|           HazMat|01/19/2018|01/18/2018|                Fire|01/19/2018 07:58:...|200 Block of KING ST|San Francisco|  94107|      B03|         08|2171|               3|       3|            3|  false|               Alarm|        1|   TRUCK|                         2|                     3|                 6|         Mission Bay|(37.7773277635261...|  180190640-T08|6.3333335|    2018|\n",
      "| 180190750|   T02|      18007983|           Alarms|01/19/2018|01/19/2018|                Fire|01/19/2018 08:33:...|900 Block of CLAY ST|San Francisco|  94108|      B01|         02|1355|               3|       3|            3|  false|               Alarm|        1|   TRUCK|                         2|                     1|                 3|           Chinatown|(37.7940625557105...|  180190750-T02|     2.65|    2018|\n",
      "| 180190755|   E08|      18007984| Medical Incident|01/19/2018|01/19/2018|    Code 2 Transport|01/19/2018 08:45:...| 600 Block of 2ND ST|San Francisco|  94107|      B03|         08|2156|               3|       3|            3|   true|Potentially Life-...|        1|  ENGINE|                         2|                     3|                 6|Financial Distric...|(37.7811877689641...|  180190755-E08|3.5333333|    2018|\n",
      "| 180190868|    65|      18007989| Medical Incident|01/19/2018|01/19/2018|    Code 2 Transport|01/19/2018 09:48:...|100 Block of GOLD...|San Francisco|  94102|      B02|         03|1546|               3|       3|            3|   true|Potentially Life-...|        1|   MEDIC|                         1|                     2|                 6|          Tenderloin|(37.7820224371776...|   180190868-65|      1.1|    2018|\n",
      "| 180190966|   E17|      18007998|Electrical Hazard|01/19/2018|01/19/2018|                Fire|01/19/2018 09:47:...|2600 Block of ARE...|San Francisco|  94124|      B10|         17|6615|               3|       3|            3|   true|               Alarm|        1|  ENGINE|                         1|                    10|                10|Bayview Hunters P...|(37.7190598256027...|  180190966-E17|     4.05|    2018|\n",
      "| 180191014|    60|      18008005| Medical Incident|01/19/2018|01/19/2018|    Code 2 Transport|01/19/2018 10:48:...|400 Block of 8TH AVE|San Francisco|  94118|      B07|         31|7135|               3|       3|            3|   true|Potentially Life-...|        1|   MEDIC|                         1|                     7|                 1|      Inner Richmond|(37.7799623898105...|   180191014-60|2.5666666|    2018|\n",
      "| 180191025|   E22|      18008006| Medical Incident|01/19/2018|01/19/2018|    Code 2 Transport|01/19/2018 10:11:...|0 Block of LOCKSL...|San Francisco|  94122|      B08|         22|7331|               A|       3|            3|  false|Potentially Life-...|        1|  ENGINE|                         1|                     8|                 7|        Inner Sunset|(37.7592202975892...|  180191025-E22|      1.4|    2018|\n",
      "| 180191138|    88|      18008017| Medical Incident|01/19/2018|01/19/2018|            No Merit|01/19/2018 10:33:...|1800 Block of IRV...|San Francisco|  94122|      B08|         22|7424|               3|       3|            3|   true|Potentially Life-...|        1|   MEDIC|                         2|                     8|                 4|     Sunset/Parkside|(37.7635919733610...|   180191138-88|2.6666667|    2018|\n",
      "| 180191308| AM108|      18008031| Medical Incident|01/19/2018|01/19/2018|Patient Declined ...|01/19/2018 11:08:...| 100 Block of 6TH ST|San Francisco|  94103|      B03|         01|2251|               3|       3|            3|  false|Potentially Life-...|        1| PRIVATE|                         3|                     3|                 6|     South of Market|(37.7807920802753...|180191308-AM108|1.7666667|    2018|\n",
      "| 180191637|    87|      18008059| Medical Incident|01/19/2018|01/19/2018|    Code 2 Transport|01/19/2018 01:54:...|WALLER ST/STANYAN ST|San Francisco|  94117|      B05|         12|4552|               3|       3|            3|   true|Potentially Life-...|        1|   MEDIC|                         1|                     5|                 5|    Golden Gate Park|(37.7682460259648...|   180191637-87|1.6833333|    2018|\n",
      "| 180191882|    54|      18008090| Medical Incident|01/19/2018|01/19/2018|    Code 2 Transport|01/19/2018 02:48:...|  SAN JOSE AV/DAY ST|San Francisco|  94110|      B06|         32|5575|               2|       2|            2|   true|Non Life-threatening|        1|   MEDIC|                         1|                     6|                 9|      Bernal Heights|(37.7431140013051...|   180191882-54|     3.65|    2018|\n",
      "| 180191986|   T03|      18008099|           Alarms|01/19/2018|01/19/2018|                Fire|01/19/2018 02:05:...|300 Block of TURK ST|San Francisco|  94102|      B02|         03|1554|               3|       3|            3|  false|               Alarm|        1|   TRUCK|                         3|                     2|                 6|          Tenderloin|(37.7826355124294...|  180191986-T03|      4.2|    2018|\n",
      "| 180192529|   B03|      18008149|           Alarms|01/19/2018|01/19/2018|                Fire|01/19/2018 04:13:...|500 Block of MISS...|San Francisco|  94158|      B03|         04|2231|               3|       3|            3|  false|               Alarm|        1|   CHIEF|                         2|                     3|                 6|         Mission Bay|(37.7711143442642...|  180192529-B03|6.3333335|    2018|\n",
      "| 180192529|   T04|      18008149|           Alarms|01/19/2018|01/19/2018|                Fire|01/19/2018 04:13:...|500 Block of MISS...|San Francisco|  94158|      B03|         04|2231|               3|       3|            3|   true|               Alarm|        1|   TRUCK|                         3|                     3|                 6|         Mission Bay|(37.7711143442642...|  180192529-T04|      6.6|    2018|\n",
      "| 180192544|   E34|      18008154| Medical Incident|01/19/2018|01/19/2018|    Code 2 Transport|01/19/2018 04:31:...|400 Block of 38TH...|San Francisco|  94121|      B07|         34|7255|               3|       3|            3|   true|Non Life-threatening|        1|  ENGINE|                         2|                     7|                 1|      Outer Richmond|(37.7798144489915...|  180192544-E34|3.4833333|    2018|\n",
      "| 180192619|   E43|      18008159|   Structure Fire|01/19/2018|01/19/2018|                Fire|01/19/2018 04:27:...|MISSION ST/EXCELS...|San Francisco|  94112|      B09|         43|6116|               3|       3|            3|   true|               Alarm|        1|  ENGINE|                         1|                     9|                11|           Excelsior|(37.7262362449735...|  180192619-E43|0.8333333|    2018|\n",
      "| 180192623|  KM09|      18008161|Traffic Collision|01/19/2018|01/19/2018|Against Medical A...|01/19/2018 05:44:...|300 Block of BROA...|San Francisco|  94133|      B01|         13|1231|               A|       3|            3|  false|Potentially Life-...|        1| PRIVATE|                         3|                     1|                 3|         North Beach|(37.7984307383913...| 180192623-KM09|     2.55|    2018|\n",
      "| 180192960|    81|      18008181| Medical Incident|01/19/2018|01/19/2018|            No Merit|01/19/2018 05:40:...|800 Block of TURK ST|San Francisco|  94102|      B02|         05|3216|               3|       3|            3|   true|Potentially Life-...|        1|   MEDIC|                         2|                     2|                 5|    Western Addition|(37.781585403105,...|   180192960-81|2.1666667|    2018|\n",
      "| 180193028|   E05|      18008185| Medical Incident|01/19/2018|01/19/2018|    Code 2 Transport|01/19/2018 06:01:...|1900 Block of MAR...|San Francisco|  94102|      B02|         06|3416|               3|       3|            3|  false|Potentially Life-...|        1|  ENGINE|                         1|                     2|                 8|        Hayes Valley|(37.7702451976437...|  180193028-E05|3.1333334|    2018|\n",
      "+----------+------+--------------+-----------------+----------+----------+--------------------+--------------------+--------------------+-------------+-------+---------+-----------+----+----------------+--------+-------------+-------+--------------------+---------+--------+--------------------------+----------------------+------------------+--------------------+--------------------+---------------+---------+--------+\n",
      "only showing top 20 rows\n",
      "\n"
     ]
    }
   ],
   "source": [
    "result = Spark.sql(\"SELECT * FROM sf_2 WHERE CallYear = 2018\")\n",
    "result.show()"
   ]
  }
 ],
 "metadata": {
  "kernelspec": {
   "display_name": "Python 3",
   "language": "python",
   "name": "python3"
  },
  "language_info": {
   "codemirror_mode": {
    "name": "ipython",
    "version": 3
   },
   "file_extension": ".py",
   "mimetype": "text/x-python",
   "name": "python",
   "nbconvert_exporter": "python",
   "pygments_lexer": "ipython3",
   "version": "3.12.4"
  }
 },
 "nbformat": 4,
 "nbformat_minor": 2
}
